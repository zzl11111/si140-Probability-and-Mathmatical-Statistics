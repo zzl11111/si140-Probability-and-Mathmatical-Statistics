{
 "cells": [
  {
   "cell_type": "code",
   "execution_count": null,
   "id": "134bb8c2",
   "metadata": {},
   "outputs": [
    {
     "name": "stdout",
     "output_type": "stream",
     "text": [
      "Greedy Algorithm:\n",
      "分别成功的概率是 [4676, 155, 169]\n",
      "三个老虎机分别的概率是 [0.69696322 0.43225806 0.47337278]\n",
      "最终成功的总数是 3406\n"
     ]
    }
   ],
   "source": [
    "print(\"Greedy Algorithm:\")\n",
    "N=5000#总实验1数\n",
    "import random\n",
    "import numpy as np\n",
    "epsilo=0.1###########################在此修改偏好系数######################\n",
    "count=[0,0,0]#每个老虎机的计数\n",
    "list3=[0.0,0.0,0.0]#每个老虎机的概率\n",
    "prob=np.array(list3)\n",
    "realprob=[0.7,0.5,0.4]#真实概率\n",
    "R=0 #总收益\n",
    "for i in range(N):\n",
    "    r=0#这是用来判断这次实验是否成功的变量\n",
    "    ran=random.uniform(0,1)#用于模拟epsilo概率\n",
    "    if(ran<epsilo):#探索过程\n",
    "        a=random.randint(0,2)#用于模拟随机三选一\n",
    "        ran_2=random.uniform(0,1)#用于模拟是否选择\n",
    "        if(ran_2<realprob[a]):\n",
    "            r=1\n",
    "            R+=1\n",
    "        count[a]+=1\n",
    "        prob[a]=prob[a]+(r-prob[a])/count[a]\n",
    "    else:\n",
    "        index=np.argmax(prob)\n",
    "        count[index]+=1\n",
    "        ran_3=random.uniform(0,1)\n",
    "        if(ran_3<realprob[index]):\n",
    "            r=1\n",
    "            R+=1\n",
    "        prob[index]=prob[index]+(r-prob[index])/count[index]\n",
    "print(\"分别成功的概率是\",count)\n",
    "print(\"三个老虎机分别的概率是\",prob)\n",
    "print(\"最终成功的总数是\",R)\n",
    "        \n",
    "            \n",
    "        \n",
    "        "
   ]
  },
  {
   "cell_type": "code",
   "execution_count": null,
   "id": "ed08bb31",
   "metadata": {},
   "outputs": [
    {
     "name": "stdout",
     "output_type": "stream",
     "text": [
      "UCB Algorithm\n",
      "分别成功的概率是 [4858, 101, 40]\n",
      "三个老虎机分别的概率是 [0.69905311 0.46534653 0.3       ]\n",
      "最终成功的总数是 3453\n"
     ]
    }
   ],
   "source": [
    "print(\"UCB Algorithm\")\n",
    "N=5000#总实验1数\n",
    "import random\n",
    "import numpy as np\n",
    "import math\n",
    "c=1###############在此修改c值##################\n",
    "count=[1,1,1]#每个老虎机的计数\n",
    "list3=[0.0,0.0,0.0]#每个老虎机的概率\n",
    "list4=[0.0,0.0,0.0]\n",
    "prob=np.array(list3)\n",
    "prob_2=np.array(list4)\n",
    "realprob=[0.7,0.5,0.4]#真实概率\n",
    "R=0 #总收益\n",
    "for i in range(3):\n",
    "    rand_1=random.uniform(0,1)\n",
    "    if(rand_1<realprob[i]):\n",
    "        prob[i]=1\n",
    "for i in range(4,N):\n",
    "    r=0\n",
    "    for j in range(3):\n",
    "        prob_2[j]=prob[j]+c*math.sqrt((2*math.log10(i))/count[j])\n",
    "    index=np.argmax(prob_2)\n",
    "    count[index]+=1\n",
    "    rand_2=random.uniform(0,1)\n",
    "    if(rand_2<realprob[index]):\n",
    "        r=1\n",
    "        R+=1  \n",
    "    prob[index]=prob[index]+(r-prob[index])/count[index]\n",
    "print(\"分别成功的概率是\",count)\n",
    "print(\"三个老虎机分别的概率是\",prob)\n",
    "print(\"最终成功的总数是\",R)"
   ]
  },
  {
   "cell_type": "code",
   "execution_count": null,
   "id": "cd308554",
   "metadata": {},
   "outputs": [
    {
     "name": "stdout",
     "output_type": "stream",
     "text": [
      "TS Algorithm\n",
      "0.7036960985626284 0.5656565656565656 0.43243243243243246\n",
      "最终成功的总数是 3496\n"
     ]
    }
   ],
   "source": [
    "print(\"TS Algorithm\")\n",
    "N=5000#总实验1数\n",
    "import random\n",
    "import numpy as np\n",
    "import math\n",
    "###############在此修改beta参量##################\n",
    "static=[[1,1],[1,1],[1,1]]\n",
    "list3=[0.0,0.0,0.0]#每个老虎机的概率\n",
    "prob=np.array(list3)\n",
    "realprob=[0.7,0.5,0.4]#真实概率\n",
    "R=0 #总收益\n",
    "for i in range(N):\n",
    "    for j in range(3):\n",
    "        prob[j]=random.betavariate(static[j][0],static[j][1])\n",
    "    #print(prob)\n",
    "    index =np.argmax(prob)\n",
    "    rand_1=random.uniform(0,1)\n",
    "    if(rand_1<realprob[index]):\n",
    "        static[index][0]+=1\n",
    "        R+=1\n",
    "    else:\n",
    "        static[index][1]+=1\n",
    "    #print(static)\n",
    "print(static[0][0]/(static[0][0]+static[0][1]),static[1][0]/(static[1][0]+static[1][1]),static[2][0]/(static[2][0]+static[2][1]))\n",
    "print(\"最终成功的总数是\",R)"
   ]
  },
  {
   "cell_type": "code",
   "execution_count": null,
   "id": "2ebe3dc9",
   "metadata": {},
   "outputs": [
    {
     "name": "stdout",
     "output_type": "stream",
     "text": [
      "The compare among three algorithm\n"
     ]
    },
    {
     "data": {
      "image/png": "[encoded data removed]",
      "text/plain": [
       "<Figure size 432x288 with 1 Axes>"
      ]
     },
     "metadata": {
      "needs_background": "light"
     },
     "output_type": "display_data"
    },
    {
     "name": "stdout",
     "output_type": "stream",
     "text": [
      "Greedy 0.682352 epsilon=0.05\n",
      "UCB 0.697639 c=0.3\n",
      "TS 0.696334 a1,a2,a3,b1,b2,b3=1\n"
     ]
    }
   ],
   "source": [
    "print(\"The compare among three algorithm\")\n",
    "N=5000#总实验1数\n",
    "import random\n",
    "import matplotlib.pyplot as plt\n",
    "import numpy as np\n",
    "epsilo=0.05###########################在此修改偏好系数######################\n",
    "R_G=[0 for i in range(N)]\n",
    "R_U=[0 for i in range(N)]\n",
    "R_T=[0 for i in range(N)]\n",
    "\n",
    "\n",
    "for q in range(200):\n",
    "    ###########################Greedy######################\n",
    "    count=[0,0,0]#每个老虎机的计数\n",
    "    list3=[0.0,0.0,0.0]#每个老虎机的概率\n",
    "    prob=np.array(list3)\n",
    "    realprob=[0.5,0.7,0.4]#真实概率\n",
    "    R=0 #总收益\n",
    "    for i in range(N):\n",
    "        r=0#这是用来判断这次实验是否成功的变量\n",
    "        ran=random.uniform(0,1)#用于模拟epsilo概率\n",
    "        if(ran<epsilo):#探索过程\n",
    "            a=random.randint(0,2)#用于模拟随机三选一\n",
    "            ran_2=random.uniform(0,1)#用于模拟是否选择\n",
    "            if(ran_2<realprob[a]):\n",
    "                r=1\n",
    "                R+=1\n",
    "            count[a]+=1\n",
    "            prob[a]=prob[a]+(r-prob[a])/count[a]\n",
    "        else:\n",
    "            index=np.argmax(prob)\n",
    "            count[index]+=1\n",
    "            ran_3=random.uniform(0,1)\n",
    "            if(ran_3<realprob[index]):\n",
    "                r=1\n",
    "                R+=1\n",
    "            prob[index]=prob[index]+(r-prob[index])/count[index]\n",
    "        R_G[i]+=R\n",
    "        \n",
    "    ###########################UCB######################\n",
    "    \n",
    "    c=0.3###############在此修改c值##################\n",
    "    count_2=[1,1,1]#每个老虎机的计数\n",
    "    list3=[0.0,0.0,0.0]#每个老虎机的概率\n",
    "    list4=[0.0,0.0,0.0]\n",
    "    prob_12=np.array(list3)\n",
    "    prob_2=np.array(list4)\n",
    "    R_2=0 #总收益\n",
    "    for i in range(3):\n",
    "        rand_1=random.uniform(0,1)\n",
    "        if(rand_1<realprob[i]):\n",
    "            prob_12[i]=1\n",
    "    for i in range(4,N):\n",
    "        r=0\n",
    "        for j in range(3):\n",
    "            prob_2[j]=prob_12[j]+c*math.sqrt((2*math.log(i))/count_2[j])\n",
    "        index=np.argmax(prob_2)\n",
    "        count_2[index]+=1\n",
    "        rand_2=random.uniform(0,1)\n",
    "        if(rand_2<realprob[index]):\n",
    "            r=1\n",
    "            R_2+=1  \n",
    "        prob_12[index]=prob_12[index]+(r-prob_12[index])/count_2[index]\n",
    "        R_U[i]+=R_2\n",
    "    \n",
    "    ###########################Thompsom Sampling######################   \n",
    "    static=[[1,1],[1,1],[1,1]]\n",
    "    list3_3=[0.0,0.0,0.0]#每个老虎机的概率\n",
    "    prob_3=np.array(list3_3)\n",
    "    R_3=0 #总收益\n",
    "    for p in range(N):\n",
    "        for j in range(3):\n",
    "            prob_3[j]=random.betavariate(static[j][0],static[j][1])\n",
    "        #print(prob)\n",
    "        index =np.argmax(prob_3)\n",
    "        rand_1=random.uniform(0,1)\n",
    "        if(rand_1<realprob[index]):\n",
    "            static[index][0]+=1\n",
    "            R_3+=1\n",
    "        else:\n",
    "            static[index][1]+=1\n",
    "        R_T[p]+=R_3\n",
    "    \n",
    "for i in range(N):\n",
    "    R_G[i]=R_G[i]/((i+1)*200)\n",
    "    R_T[i]=R_T[i]/((i+1)*200)\n",
    "    R_U[i]=R_U[i]/((i+1)*200)\n",
    "x=[i for i in range(N)]\n",
    "y=[0.7 for i in range(N)]\n",
    "plt.figure()\n",
    "plt.title(\"Comparison among three Algorithm\")\n",
    "plt.plot(x,y,label=\"oracle\")\n",
    "plt.plot(x,R_G,label=\"Greedy\")\n",
    "plt.plot(x,R_U,label=\"UCB\")\n",
    "plt.plot(x,R_T,label=\"TS\")\n",
    "plt.legend()\n",
    "plt.xlabel(\"N\")\n",
    "plt.ylabel(\"E(R)\")\n",
    "plt.ylim(0.5, 0.75)\n",
    "plt.show()\n",
    "print(\"Greedy\",R_G[4999],\"epsilon=0.05\")\n",
    "print(\"UCB\",R_U[4999],\"c=0.3\")\n",
    "print(\"TS\",R_T[4999],\"a1,a2,a3,b1,b2,b3=1\")\n",
    "            \n",
    "        \n",
    "        "
   ]
  },
  {
   "cell_type": "code",
   "execution_count": null,
   "id": "c5e674e3",
   "metadata": {},
   "outputs": [
    {
     "name": "stdout",
     "output_type": "stream",
     "text": [
      "Greedy Algorithm:\n"
     ]
    },
    {
     "data": {
      "image/png": "[encoded data removed]",
      "text/plain": [
       "<Figure size 432x288 with 1 Axes>"
      ]
     },
     "metadata": {
      "needs_background": "light"
     },
     "output_type": "display_data"
    }
   ],
   "source": [
    "print(\"Greedy Algorithm:\")\n",
    "N=5000#总实验1数\n",
    "import random\n",
    "import matplotlib.pyplot as plt\n",
    "import numpy as np\n",
    "R=0 #总收益\n",
    "n=100\n",
    "epsilon=[0.01*i for i in range(n)]\n",
    "R=[0 for i in range(n)]\n",
    "for k in range(0,n):\n",
    "    for j in range(200):\n",
    "        epsilo=epsilon[k]###########################在此修改偏好系数######################\n",
    "        count=[0,0,0]#每个老虎机的计数\n",
    "        list3=[0.0,0.0,0.0]#每个老虎机的概率\n",
    "        prob=np.array(list3)\n",
    "        realprob=[0.5,0.7,0.4]#真实概率\n",
    "        for i in range(N):\n",
    "            r=0#这是用来判断这次实验是否成功的变量\n",
    "            ran=random.uniform(0,1)#用于模拟epsilo概率\n",
    "            if(ran<epsilo):#探索过程\n",
    "                a=random.randint(0,2)#用于模拟随机三选一\n",
    "                ran_2=random.uniform(0,1)#用于模拟是否选择\n",
    "                if(ran_2<realprob[a]):\n",
    "                    r=1\n",
    "                    R[k]+=1\n",
    "                count[a]+=1\n",
    "                prob[a]=prob[a]+(r-prob[a])/count[a]\n",
    "            else:\n",
    "                index=np.argmax(prob)\n",
    "                count[index]+=1\n",
    "                ran_3=random.uniform(0,1)\n",
    "                if(ran_3<realprob[index]):\n",
    "                    r=1\n",
    "                    R[k]+=1\n",
    "                prob[index]=prob[index]+(r-prob[index])/count[index]\n",
    "R=[i/200 for i in R]\n",
    "#print(\"最终成功的总数是\",R)\n",
    "plt.figure()\n",
    "plt.plot(epsilon,R)\n",
    "max_index=np.argmax(R)\n",
    "plt.xlabel(\"epsilon\")\n",
    "plt.ylabel(\"E(R)\")\n",
    "plt.scatter(epsilon[max_index], R[max_index])\n",
    "plt.text(epsilon[max_index], R[max_index], 'max: ({:.2f}, {:.2f})'.format(epsilon[max_index], R[max_index]))\n",
    "plt.show()\n",
    "        \n",
    "            \n",
    "        \n",
    "        "
   ]
  },
  {
   "cell_type": "code",
   "execution_count": 6,
   "id": "92b6df5e",
   "metadata": {},
   "outputs": [
    {
     "name": "stdout",
     "output_type": "stream",
     "text": [
      "UCB Algorithm\n"
     ]
    },
    {
     "ename": "KeyboardInterrupt",
     "evalue": "",
     "output_type": "error",
     "traceback": [
      "\u001b[1;31m---------------------------------------------------------------------------\u001b[0m",
      "\u001b[1;31mKeyboardInterrupt\u001b[0m                         Traceback (most recent call last)",
      "\u001b[1;32mc:\\Users\\zzl\\Documents\\Tencent Files\\1563815381\\FileRecv\\111-Copy1.ipynb Cell 6\u001b[0m in \u001b[0;36m<cell line: 12>\u001b[1;34m()\u001b[0m\n\u001b[0;32m     <a href='vscode-notebook-cell:/c%3A/Users/zzl/Documents/Tencent%20Files/1563815381/FileRecv/111-Copy1.ipynb#W5sZmlsZQ%3D%3D?line=24'>25</a>\u001b[0m \u001b[39mfor\u001b[39;00m j \u001b[39min\u001b[39;00m \u001b[39mrange\u001b[39m(\u001b[39m3\u001b[39m):\n\u001b[0;32m     <a href='vscode-notebook-cell:/c%3A/Users/zzl/Documents/Tencent%20Files/1563815381/FileRecv/111-Copy1.ipynb#W5sZmlsZQ%3D%3D?line=25'>26</a>\u001b[0m     prob_2[j]\u001b[39m=\u001b[39mprob[j]\u001b[39m+\u001b[39mc[k]\u001b[39m*\u001b[39mmath\u001b[39m.\u001b[39msqrt((\u001b[39m2\u001b[39m\u001b[39m*\u001b[39mmath\u001b[39m.\u001b[39mlog(i))\u001b[39m/\u001b[39mcount[j])\n\u001b[1;32m---> <a href='vscode-notebook-cell:/c%3A/Users/zzl/Documents/Tencent%20Files/1563815381/FileRecv/111-Copy1.ipynb#W5sZmlsZQ%3D%3D?line=26'>27</a>\u001b[0m index\u001b[39m=\u001b[39mnp\u001b[39m.\u001b[39;49margmax(prob_2)\n\u001b[0;32m     <a href='vscode-notebook-cell:/c%3A/Users/zzl/Documents/Tencent%20Files/1563815381/FileRecv/111-Copy1.ipynb#W5sZmlsZQ%3D%3D?line=27'>28</a>\u001b[0m count[index]\u001b[39m+\u001b[39m\u001b[39m=\u001b[39m\u001b[39m1\u001b[39m\n\u001b[0;32m     <a href='vscode-notebook-cell:/c%3A/Users/zzl/Documents/Tencent%20Files/1563815381/FileRecv/111-Copy1.ipynb#W5sZmlsZQ%3D%3D?line=28'>29</a>\u001b[0m rand_2\u001b[39m=\u001b[39mrandom\u001b[39m.\u001b[39muniform(\u001b[39m0\u001b[39m,\u001b[39m1\u001b[39m)\n",
      "File \u001b[1;32m<__array_function__ internals>:5\u001b[0m, in \u001b[0;36margmax\u001b[1;34m(*args, **kwargs)\u001b[0m\n",
      "File \u001b[1;32md:\\anaconda3\\lib\\site-packages\\numpy\\core\\fromnumeric.py:1195\u001b[0m, in \u001b[0;36margmax\u001b[1;34m(a, axis, out)\u001b[0m\n\u001b[0;32m   1121\u001b[0m \u001b[39m@array_function_dispatch\u001b[39m(_argmax_dispatcher)\n\u001b[0;32m   1122\u001b[0m \u001b[39mdef\u001b[39;00m \u001b[39margmax\u001b[39m(a, axis\u001b[39m=\u001b[39m\u001b[39mNone\u001b[39;00m, out\u001b[39m=\u001b[39m\u001b[39mNone\u001b[39;00m):\n\u001b[0;32m   1123\u001b[0m     \u001b[39m\"\"\"\u001b[39;00m\n\u001b[0;32m   1124\u001b[0m \u001b[39m    Returns the indices of the maximum values along an axis.\u001b[39;00m\n\u001b[0;32m   1125\u001b[0m \n\u001b[1;32m   (...)\u001b[0m\n\u001b[0;32m   1193\u001b[0m \n\u001b[0;32m   1194\u001b[0m \u001b[39m    \"\"\"\u001b[39;00m\n\u001b[1;32m-> 1195\u001b[0m     \u001b[39mreturn\u001b[39;00m _wrapfunc(a, \u001b[39m'\u001b[39;49m\u001b[39margmax\u001b[39;49m\u001b[39m'\u001b[39;49m, axis\u001b[39m=\u001b[39;49maxis, out\u001b[39m=\u001b[39;49mout)\n",
      "File \u001b[1;32md:\\anaconda3\\lib\\site-packages\\numpy\\core\\fromnumeric.py:57\u001b[0m, in \u001b[0;36m_wrapfunc\u001b[1;34m(obj, method, *args, **kwds)\u001b[0m\n\u001b[0;32m     54\u001b[0m     \u001b[39mreturn\u001b[39;00m _wrapit(obj, method, \u001b[39m*\u001b[39margs, \u001b[39m*\u001b[39m\u001b[39m*\u001b[39mkwds)\n\u001b[0;32m     56\u001b[0m \u001b[39mtry\u001b[39;00m:\n\u001b[1;32m---> 57\u001b[0m     \u001b[39mreturn\u001b[39;00m bound(\u001b[39m*\u001b[39margs, \u001b[39m*\u001b[39m\u001b[39m*\u001b[39mkwds)\n\u001b[0;32m     58\u001b[0m \u001b[39mexcept\u001b[39;00m \u001b[39mTypeError\u001b[39;00m:\n\u001b[0;32m     59\u001b[0m     \u001b[39m# A TypeError occurs if the object does have such a method in its\u001b[39;00m\n\u001b[0;32m     60\u001b[0m     \u001b[39m# class, but its signature is not identical to that of NumPy's. This\u001b[39;00m\n\u001b[1;32m   (...)\u001b[0m\n\u001b[0;32m     64\u001b[0m     \u001b[39m# Call _wrapit from within the except clause to ensure a potential\u001b[39;00m\n\u001b[0;32m     65\u001b[0m     \u001b[39m# exception has a traceback chain.\u001b[39;00m\n\u001b[0;32m     66\u001b[0m     \u001b[39mreturn\u001b[39;00m _wrapit(obj, method, \u001b[39m*\u001b[39margs, \u001b[39m*\u001b[39m\u001b[39m*\u001b[39mkwds)\n",
      "\u001b[1;31mKeyboardInterrupt\u001b[0m: "
     ]
    }
   ],
   "source": [
    "print(\"UCB Algorithm\")\n",
    "N=5000#总实验1数\n",
    "import random\n",
    "import numpy as np\n",
    "import matplotlib.pyplot as plt\n",
    "import math\n",
    "###############在此修改c值##################\n",
    "n=100\n",
    "realprob=[0.5,0.7,0.4]#真实概率\n",
    "c=[i*0.1 for i in range(n)]\n",
    "R=[0 for i in range(n)]\n",
    "for k in range(0,n):\n",
    "    for w in range(200):\n",
    "        count=[1,1,1]#每个老虎机的计数\n",
    "        list3=[0.0,0.0,0.0]#每个老虎机的概率\n",
    "        list4=[0.0,0.0,0.0]\n",
    "        prob=np.array(list3)\n",
    "        prob_2=np.array(list4)\n",
    "        for i in range(3):\n",
    "            rand_1=random.uniform(0,1)\n",
    "            if(rand_1<realprob[i]):\n",
    "                prob[i]=1\n",
    "        for i in range(4,N):\n",
    "            r=0\n",
    "            for j in range(3):\n",
    "                prob_2[j]=prob[j]+c[k]*math.sqrt((2*math.log(i))/count[j])\n",
    "            index=np.argmax(prob_2)\n",
    "            count[index]+=1\n",
    "            rand_2=random.uniform(0,1)\n",
    "            if(rand_2<realprob[index]):\n",
    "                r=1\n",
    "                R[k]+=1  \n",
    "            prob[index]=prob[index]+(r-prob[index])/count[index]\n",
    "R=[i/200 for i in R]\n",
    "plt.figure()\n",
    "plt.plot(c,R)\n",
    "max_index=np.argmax(R)\n",
    "plt.xlabel(\"c\")\n",
    "plt.ylabel(\"E(R)\")\n",
    "plt.scatter(c[max_index], R[max_index])\n",
    "plt.text(c[max_index], R[max_index], 'max: ({:.2f}, {:.2f})'.format(c[max_index], R[max_index]))\n",
    "plt.show()"
   ]
  },
  {
   "cell_type": "code",
   "execution_count": null,
   "id": "dff6b491",
   "metadata": {},
   "outputs": [
    {
     "name": "stdout",
     "output_type": "stream",
     "text": [
      "The compare among three algorithm\n"
     ]
    },
    {
     "data": {
      "image/png": "[encoded data removed]",
      "text/plain": [
       "<Figure size 432x288 with 1 Axes>"
      ]
     },
     "metadata": {
      "needs_background": "light"
     },
     "output_type": "display_data"
    },
    {
     "name": "stdout",
     "output_type": "stream",
     "text": [
      "Greedy 0.0 epsilon=0.05\n",
      "UCB 0.0 c=0.3\n",
      "TS 0.0 a1,a2,a3,b1,b2,b3=1\n"
     ]
    }
   ],
   "source": [
    "\n",
    "            \n",
    "        \n",
    "        "
   ]
  },
  {
   "cell_type": "code",
   "execution_count": 19,
   "id": "d920cc1a",
   "metadata": {},
   "outputs": [
    {
     "name": "stdout",
     "output_type": "stream",
     "text": [
      "Simulation\n"
     ]
    },
    {
     "ename": "IndexError",
     "evalue": "list index out of range",
     "output_type": "error",
     "traceback": [
      "\u001b[1;31m---------------------------------------------------------------------------\u001b[0m",
      "\u001b[1;31mIndexError\u001b[0m                                Traceback (most recent call last)",
      "\u001b[1;32mc:\\Users\\zzl\\Documents\\Tencent Files\\1563815381\\FileRecv\\111-Copy1.ipynb Cell 8\u001b[0m in \u001b[0;36m<cell line: 12>\u001b[1;34m()\u001b[0m\n\u001b[0;32m     <a href='vscode-notebook-cell:/c%3A/Users/zzl/Documents/Tencent%20Files/1563815381/FileRecv/111-Copy1.ipynb#X10sZmlsZQ%3D%3D?line=11'>12</a>\u001b[0m \u001b[39mfor\u001b[39;00m i \u001b[39min\u001b[39;00m \u001b[39mrange\u001b[39m(N):\n\u001b[0;32m     <a href='vscode-notebook-cell:/c%3A/Users/zzl/Documents/Tencent%20Files/1563815381/FileRecv/111-Copy1.ipynb#X10sZmlsZQ%3D%3D?line=12'>13</a>\u001b[0m     \u001b[39mfor\u001b[39;00m j \u001b[39min\u001b[39;00m \u001b[39mrange\u001b[39m(\u001b[39m3\u001b[39m):\n\u001b[1;32m---> <a href='vscode-notebook-cell:/c%3A/Users/zzl/Documents/Tencent%20Files/1563815381/FileRecv/111-Copy1.ipynb#X10sZmlsZQ%3D%3D?line=13'>14</a>\u001b[0m         prob[j]\u001b[39m=\u001b[39mrandom\u001b[39m.\u001b[39mbetavariate(static[j][\u001b[39m0\u001b[39m],static[j][\u001b[39m1\u001b[39m])\n\u001b[0;32m     <a href='vscode-notebook-cell:/c%3A/Users/zzl/Documents/Tencent%20Files/1563815381/FileRecv/111-Copy1.ipynb#X10sZmlsZQ%3D%3D?line=14'>15</a>\u001b[0m     \u001b[39m#print(prob)\u001b[39;00m\n\u001b[0;32m     <a href='vscode-notebook-cell:/c%3A/Users/zzl/Documents/Tencent%20Files/1563815381/FileRecv/111-Copy1.ipynb#X10sZmlsZQ%3D%3D?line=15'>16</a>\u001b[0m     index \u001b[39m=\u001b[39mnp\u001b[39m.\u001b[39margmax(prob)\n",
      "\u001b[1;31mIndexError\u001b[0m: list index out of range"
     ]
    }
   ],
   "source": [
    "print(\"Simulation\")\n",
    "N=5000#总实验1数\n",
    "import random\n",
    "import numpy as np\n",
    "import math\n",
    "###############在此修改beta参量##################\n",
    "static=[[1,1],[1,1]]\n",
    "list3=[0.0,0.0,0.0]#每个老虎机的概率\n",
    "prob=np.array(list3)\n",
    "realprob=[0.7,0.5,0.4]#真实概率\n",
    "R=0 #总收益\n",
    "for i in range(N):\n",
    "    for j in range(3):\n",
    "        prob[j]=random.betavariate(static[j][0],static[j][1])\n",
    "    #print(prob)\n",
    "    index =np.argmax(prob)\n",
    "    rand_1=random.uniform(0,1)\n",
    "    if(rand_1<realprob[index]):\n",
    "        static[index][0]+=1\n",
    "        R+=1\n",
    "    else:\n",
    "        static[index][1]+=1\n",
    "    #print(static)\n",
    "print(static[0][0]/(static[0][0]+static[0][1]),static[1][0]/(static[1][0]+static[1][1]),static[2][0]/(static[2][0]+static[2][1]))\n",
    "print(\"最终成功的总数是\",R)"
   ]
  },
  {
   "cell_type": "code",
   "execution_count": 18,
   "id": "1a7e9630",
   "metadata": {},
   "outputs": [
    {
     "name": "stdout",
     "output_type": "stream",
     "text": [
      "TS Algorithm\n",
      "0.0003447087211306446 0.4838064774090364\n",
      "最终的收益是 488.6676485788914\n"
     ]
    }
   ],
   "source": [
    "print(\"TS Algorithm\")\n",
    "N=5000#总实验1数\n",
    "import random\n",
    "import numpy as np\n",
    "import math\n",
    "###############在此修改beta参量##################\n",
    "static=[[1,2900],[1,1]]\n",
    "list3=[0.0,0.0]#每个老虎机的概率\n",
    "prob=np.array(list3)\n",
    "realprob=[0.7,0.5]#真实概率\n",
    "R=0 #总收益\n",
    "gama=0.999\n",
    "for i in range(N):\n",
    "    for j in range(2):\n",
    "        prob[j]=random.betavariate(static[j][0],static[j][1])\n",
    "    #print(prob)\n",
    "    index =np.argmax(prob)\n",
    "    rand_1=random.uniform(0,1)\n",
    "    if(rand_1<realprob[index]):\n",
    "        static[index][0]+=1\n",
    "        R+=gama**(i)\n",
    "    else:\n",
    "        static[index][1]+=1\n",
    "    #print(static)\n",
    "print(static[0][0]/(static[0][0]+static[0][1]),static[1][0]/(static[1][0]+static[1][1]))\n",
    "print(\"最终的收益是\",R)"
   ]
  }
 ],
 "metadata": {
  "kernelspec": {
   "display_name": "Python 3 (ipykernel)",
   "language": "python",
   "name": "python3"
  },
  "language_info": {
   "codemirror_mode": {
    "name": "ipython",
    "version": 3
   },
   "file_extension": ".py",
   "mimetype": "text/x-python",
   "name": "python",
   "nbconvert_exporter": "python",
   "pygments_lexer": "ipython3",
   "version": "3.9.12"
  },
  "vscode": {
   "interpreter": {
    "hash": "49cb93f377a7abe7414b7b0f21fb3017538004a126cf690fb524202736b7fb92"
   }
  }
 },
 "nbformat": 4,
 "nbformat_minor": 5
}
